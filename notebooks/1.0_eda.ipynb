{
 "cells": [
  {
   "metadata": {},
   "cell_type": "markdown",
   "source": "## Credit Risk Probability Model for Alternative Data",
   "id": "140694d038c15100"
  },
  {
   "metadata": {},
   "cell_type": "markdown",
   "source": "### An End-to-End Implementation for Building, Deploying, and Automating a Credit Risk Model",
   "id": "9b21f49168e497e0"
  },
  {
   "metadata": {},
   "cell_type": "code",
   "outputs": [],
   "execution_count": null,
   "source": [
    "# Import necessary lobraries\n",
    "import sys\n",
    "import os\n",
    "\n",
    "\n",
    "notebook_dir = os.getcwd()  # Get current working directory (notebooks folder)\n",
    "project_dir = os.path.abspath(os.path.join(notebook_dir, '..'))  # Go up one level\n",
    "src_dir = os.path.join(project_dir, 'src')  # Path to scripts\n",
    "sys.path.append(src_dir)"
   ],
   "id": "e6098bf172aa5d28"
  },
  {
   "metadata": {},
   "cell_type": "code",
   "outputs": [],
   "execution_count": null,
   "source": [
    "import pandas as pd\n",
    "from data_loader import DataLoader\n",
    "from data_eda import Dataprocessor\n",
    "from data_processing import build_full_pipeline\n",
    "from proxy_target_engineer import ProxyTargetEngineer"
   ],
   "id": "a71c7e32c90aef29"
  },
  {
   "metadata": {},
   "cell_type": "markdown",
   "source": "## Data Loading",
   "id": "bfc26939aac05e8c"
  },
  {
   "metadata": {},
   "cell_type": "code",
   "outputs": [],
   "execution_count": null,
   "source": [
    "#Import data\n",
    "file_path = \"../data/raw/data.csv\"\n",
    "data = DataLoader()\n",
    "df = data.load_data(file_path)\n",
    "df.head()"
   ],
   "id": "78cc8d46edb79f82"
  },
  {
   "metadata": {},
   "cell_type": "markdown",
   "source": "## Data Overviewing\n",
   "id": "53656f6d9cc9ed48"
  },
  {
   "metadata": {},
   "cell_type": "code",
   "outputs": [],
   "execution_count": null,
   "source": [
    "# Overview Data\n",
    "data_eda = Dataprocessor(df)\n",
    "data_overview = data_eda.overview_data()\n",
    "print(data_overview)"
   ],
   "id": "ba084e2db7d734aa"
  },
  {
   "metadata": {},
   "cell_type": "markdown",
   "source": "## Distribution of Numerical Features\n",
   "id": "bafd280df94d1982"
  },
  {
   "metadata": {},
   "cell_type": "code",
   "outputs": [],
   "execution_count": null,
   "source": [
    "# Visualize data distribution on numerical features\n",
    "data_dist_num = data_eda.plot_numerical_distributions()\n",
    "print(data_dist_num)"
   ],
   "id": "d5abd78ff5dde90a"
  },
  {
   "metadata": {},
   "cell_type": "markdown",
   "source": "## Distribution of Categorical Features",
   "id": "e30785c7be9f8785"
  },
  {
   "metadata": {},
   "cell_type": "code",
   "outputs": [],
   "execution_count": null,
   "source": [
    "# Visualize data distribution on categorical features\n",
    "data_dist_cat = data_eda.plot_categorical_distributions()\n",
    "print(data_dist_cat)"
   ],
   "id": "17678e6a2a5ea6f8"
  },
  {
   "metadata": {},
   "cell_type": "markdown",
   "source": "## Correlation Analysis",
   "id": "f56a8cae3773ddca"
  },
  {
   "metadata": {},
   "cell_type": "code",
   "outputs": [],
   "execution_count": null,
   "source": [
    "# Visualize correlation analysis\n",
    "data_corr = data_eda.correlation_heatmap()\n",
    "print(data_corr)"
   ],
   "id": "465f10320f390333"
  },
  {
   "metadata": {},
   "cell_type": "markdown",
   "source": "## Missing Values",
   "id": "acae4bebcc86db2a"
  },
  {
   "metadata": {},
   "cell_type": "code",
   "outputs": [],
   "execution_count": null,
   "source": [
    "#print out missing values\n",
    "data_missing = data_eda.missing_value_summary()\n",
    "print(data_missing)"
   ],
   "id": "c3b7a70451e924a1"
  },
  {
   "metadata": {},
   "cell_type": "markdown",
   "source": "## Outlier Detection using Boxplots",
   "id": "ba0fea4ee74e403b"
  },
  {
   "metadata": {},
   "cell_type": "code",
   "outputs": [],
   "execution_count": null,
   "source": [
    "#Visualize outlier values\n",
    "data_outliers = data_eda.plot_outliers()\n",
    "print(data_outliers)"
   ],
   "id": "4d1ee36ce6d97f23"
  },
  {
   "metadata": {},
   "cell_type": "markdown",
   "source": "## Proxy Target Engineering",
   "id": "4ab481797b66beb7"
  },
  {
   "metadata": {},
   "cell_type": "code",
   "outputs": [],
   "execution_count": null,
   "source": [
    "proxy = ProxyTargetEngineer(\n",
    "    customer_id_col='CustomerId',\n",
    "    timestamp_col='TransactionStartTime',\n",
    "    amount_col='Amount'\n",
    ")\n",
    "rfm_labeled = proxy.engineer_target(df)\n",
    "df_labeled = proxy.merge_with_main(df, rfm_labeled)"
   ],
   "id": "240049ba86a0132"
  },
  {
   "metadata": {},
   "cell_type": "markdown",
   "source": "## Define target and raw features",
   "id": "f192f6d9c754f465"
  },
  {
   "metadata": {},
   "cell_type": "code",
   "outputs": [],
   "execution_count": null,
   "source": [
    "# --- Step 2: Define target and raw features ---\n",
    "y = df_labeled['is_high_risk']\n",
    "X_raw = df_labeled.copy()"
   ],
   "id": "e32beeb0f5cdb8c6"
  },
  {
   "metadata": {},
   "cell_type": "markdown",
   "source": "## Build pipeline to transform data",
   "id": "f9579b2882a89db6"
  },
  {
   "metadata": {},
   "cell_type": "code",
   "outputs": [],
   "execution_count": null,
   "source": [
    "pipeline = build_full_pipeline(\n",
    "    numeric_features=['transaction_count', 'total_amount', 'avg_amount', 'std_amount'],\n",
    "    categorical_features=['month', 'hour'],\n",
    "    timestamp_col='TransactionStartTime',\n",
    "    amount_col='Amount',\n",
    "    customer_id_col='CustomerId'\n",
    ")\n",
    "X_processed = pipeline.fit_transform(X_raw)"
   ],
   "id": "6324d246e56594fe"
  },
  {
   "metadata": {},
   "cell_type": "code",
   "outputs": [],
   "execution_count": null,
   "source": "print(X_processed)",
   "id": "b6199909b7888eab"
  },
  {
   "metadata": {},
   "cell_type": "markdown",
   "source": "## Save Data",
   "id": "8806cded86c64999"
  },
  {
   "metadata": {},
   "cell_type": "code",
   "outputs": [],
   "execution_count": null,
   "source": [
    "# --- Step 4: Save processed data ---\n",
    "y.to_csv(\"../data/processed/data_targeted.csv\", index=False)\n",
    "pd.DataFrame(X_processed).to_csv(\"../data/processed/data_labeled.csv\", index=False)"
   ],
   "id": "b41b8246f46a5d2f"
  }
 ],
 "metadata": {
  "kernelspec": {
   "display_name": "Python 3",
   "language": "python",
   "name": "python3"
  },
  "language_info": {
   "codemirror_mode": {
    "name": "ipython",
    "version": 2
   },
   "file_extension": ".py",
   "mimetype": "text/x-python",
   "name": "python",
   "nbconvert_exporter": "python",
   "pygments_lexer": "ipython2",
   "version": "2.7.6"
  }
 },
 "nbformat": 4,
 "nbformat_minor": 5
}
